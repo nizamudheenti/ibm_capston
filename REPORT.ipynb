{
 "cells": [
  {
   "attachments": {},
   "cell_type": "markdown",
   "metadata": {},
   "source": [
    "\n",
    "### Brief Introduction (Cover Page)\n",
    "Part 1: Problem Description\n",
    "Part 1: Problem Description\n",
    "There is a sports goods seller in one of the boroughs of Toronto (North York). This seller provides sports goods. The contractor wants to a new branch of his shop in nearest neighborhood,so he need to select best place for start his new brach,he needs more sports related places to his new brach so he can attract more sports customers from it.\n",
    "Part 2: Data We Need\n",
    " We will need geo-locational information about that specific borough and the neighborhoods in that borough. We specifically and technically mean the latitude and longitude numbers of that borough. We assume that it is \"North York\" in Toronto. This is easily provided for us by the contractor, because the seller has already made up his mind about the borough. The Postal Codes that fall into that borough (North York) would also be sufficient fo us. I fact we will first find neighborhoods inside North York by their corresponding Postal Codes.\n",
    "We will need data about different venues in different neighborhoods of that specific borough. In order to gain that information we will use \"Foursquare\" locational information. By locational information for each venue we mean basic and advanced information about that venue. For example there is a venue in one of the neighborhoods. As basic information, we can obtain its precise latitude and longitude and also its distance from the center of the neighborhood. But we are looking for advanced information such as the category of that venue and whether this venue is a popular one in its category or maybe the average price of the services of this venue. \n",
    "Main Article\n",
    "Part 1: Identifying Neighborhoods inside \"North York\"\n",
    "We will use Postal Codes of different regions inside North York to find the list of neighborhoods. We will essentially obtain our information from https://en.wikipedia.org/wiki/List_of_postal_codes_of_Canada:_M and then process the table inside this site. Images from dataframes and also from maps will be provided in the presentation. Here we only present our strategy and how we got the mission accomplished.\n",
    "Part 2: Connecting to Foursquare and Retrieving Locational Data\n",
    "for Each Venue in Every Neighborhood\n",
    "After finding the list of neighborhoods, we then connect to the Foursquare API to gather information about venues inside each and every neighborhood. For each neighborhood, we have chosen the radius to be 1000 meter. It means that we have asked Foursquare to find venues that are at most 1000 meter far from the center of the neighborhood. (I think distance is measured by latitude and longitude of venues and neighborhoods, and it is not the walking distance for venues.)\n",
    "Part 3: Processing the Retrieved Data and Creating a DataFrome for All the Venues inside the North York\n",
    "When the data is completely gathered, we will perform processing on that raw data to find our desirable features for each venue. Our main feature is the category of that venue. After this stage, the column \"Venue's Category\" wil be One-hot encoded and different venues will have different feature-columns. After On-hot encoding we will integrate all restaurant columns to one column \"Total Restaurants\" and all food joint columns to \"Total Joints\" column. We assumed that different resaturants use the Same raw groceries. This assumption is made for simplicity and due to not having a very detailed dataset about different venues.\n",
    "Now, the dataset is fully ready to be used for machine learning (and statistical analysis) purposes.\n",
    "Part 4: Applying one of Machine Learning Techniques (K-Means Clustering)\n",
    "Here we cluster neighborhoods via K-means clustering method. We think that 5 clusters is enough and can cover the complexity of our problem. After clustering we will update our dataset and create a column representing the group for each neighborhood.\n",
    "Decision Making and Reporting Results\n",
    "Now, we focus on the centers of clusters and compare them for their \"Total sports related venues\". The group which its center has the highest \"Total Sum\" will be our best recommendation to the contractor. {Note: Total Sum = total sports related venues} This algorithm although is pretty straightforward yet is strongly powerful.\n",
    "Results:\n",
    "Based on this analysis, the best recommended neighborhood will be:\n",
    "{'Postal Code': 'M3K',\n",
    " 'Neighborhood': 'Downsview',\n",
    " 'Neighborhood Latitude': 43.737473200000004,\n",
    " 'Neighborhood Longitude': -79.46476329999999}"
   ]
  }
 ],
 "metadata": {
  "kernelspec": {
   "display_name": "Python 3",
   "language": "python",
   "name": "python3"
  },
  "language_info": {
   "codemirror_mode": {
    "name": "ipython",
    "version": 3
   },
   "file_extension": ".py",
   "mimetype": "text/x-python",
   "name": "python",
   "nbconvert_exporter": "python",
   "pygments_lexer": "ipython3",
   "version": "3.6.4"
  }
 },
 "nbformat": 4,
 "nbformat_minor": 4
}
